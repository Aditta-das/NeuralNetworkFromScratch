{
 "cells": [
  {
   "cell_type": "code",
   "execution_count": 16,
   "outputs": [],
   "source": [
    "import helper\n",
    "import numpy as np\n",
    "import random"
   ],
   "metadata": {
    "collapsed": false,
    "pycharm": {
     "name": "#%%\n"
    }
   }
  },
  {
   "cell_type": "markdown",
   "source": [
    "Test\n",
    "\n",
    "w = weights, b= bias, i = input, h = hidden, o = output\n",
    "\n",
    "e.g. w_i_h = weights from input layer to hidden layer"
   ],
   "metadata": {
    "collapsed": false
   }
  },
  {
   "cell_type": "code",
   "execution_count": 17,
   "outputs": [],
   "source": [
    "random.seed(10)\n",
    "data, labels = helper.get_mnist()\n",
    "w_i_h = np.random.uniform(-1, 1, (20, 784)) / 784\n",
    "w_h_o = np.random.uniform(-1, 1, (10, 20)) / 20\n",
    "b_i_h = np.random.uniform(-1, 1, 20)\n",
    "b_h_o = np.random.uniform(-1, 1, 10)"
   ],
   "metadata": {
    "collapsed": false,
    "pycharm": {
     "name": "#%%\n"
    }
   }
  },
  {
   "cell_type": "code",
   "execution_count": 18,
   "outputs": [
    {
     "name": "stdout",
     "output_type": "stream",
     "text": [
      "Acc: 84.01%\n",
      "Acc: 92.8%\n",
      "Acc: 93.82%\n"
     ]
    }
   ],
   "source": [
    "learn_rate = 0.01\n",
    "epochs = 3\n",
    "acc = 0\n",
    "for epoch in range(epochs):\n",
    "    for i, l in zip(data, labels):\n",
    "        # Forward propagation input -> hidden\n",
    "        h_pre = b_i_h + w_i_h @ i\n",
    "        h = 1 / (1 + np.exp(-h_pre))\n",
    "        # Forward propagation hidden -> output\n",
    "        o_pre = b_h_o + w_h_o @ h\n",
    "        o = 1 / (1 + np.exp(-o_pre))\n",
    "        # Error calculation\n",
    "        e = np.sum((o - l) ** 2, axis=0)\n",
    "        is_correct = np.argmax(o) == np.argmax(l)\n",
    "        # Backpropagation output -> hidden (cost function derivative)\n",
    "        h = h.reshape(-1, 1)\n",
    "        delta_o = (o - l).reshape(-1, 1)\n",
    "        w_h_o = w_h_o  -learn_rate * delta_o @ np.transpose(h)\n",
    "        b_h_o = b_h_o -learn_rate * np.sum(delta_o)\n",
    "        # Backpropagation hidden -> input (activation function derivative)\n",
    "        i = i.reshape(-1, 1)\n",
    "        delta_h = np.transpose(w_h_o) @ delta_o * (h * (1 - h))\n",
    "        w_i_h = w_i_h -learn_rate * delta_h @ np.transpose(i)\n",
    "        b_i_h = b_i_h -learn_rate * np.sum(delta_h)\n",
    "        # Simultaneous update\n",
    "        # w_h_o = tmp_w_h_o\n",
    "        # b_h_o = tmp_b_h_o\n",
    "        # w_i_h = tmp_w_i_h\n",
    "        # b_i_h = tmp_b_i_h\n",
    "        # Show accuracy for last 100 inputs\n",
    "        acc += is_correct\n",
    "    print(f'Acc: {round((acc / data.shape[0]) * 100, 2)}%')\n",
    "    acc = 0"
   ],
   "metadata": {
    "collapsed": false,
    "pycharm": {
     "name": "#%%\n"
    }
   }
  }
 ],
 "metadata": {
  "kernelspec": {
   "display_name": "Python 3",
   "language": "python",
   "name": "python3"
  },
  "language_info": {
   "codemirror_mode": {
    "name": "ipython",
    "version": 2
   },
   "file_extension": ".py",
   "mimetype": "text/x-python",
   "name": "python",
   "nbconvert_exporter": "python",
   "pygments_lexer": "ipython2",
   "version": "2.7.6"
  }
 },
 "nbformat": 4,
 "nbformat_minor": 0
}